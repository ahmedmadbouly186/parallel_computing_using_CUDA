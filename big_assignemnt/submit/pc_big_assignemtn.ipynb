{
  "metadata": {
    "kernelspec": {
      "display_name": "Python 3",
      "name": "python3"
    },
    "language_info": {
      "name": "python",
      "version": "3.10.13",
      "mimetype": "text/x-python",
      "codemirror_mode": {
        "name": "ipython",
        "version": 3
      },
      "pygments_lexer": "ipython3",
      "nbconvert_exporter": "python",
      "file_extension": ".py"
    },
    "kaggle": {
      "accelerator": "nvidiaTeslaT4",
      "dataSources": [],
      "dockerImageVersionId": 30699,
      "isInternetEnabled": true,
      "language": "python",
      "sourceType": "notebook",
      "isGpuEnabled": true
    },
    "colab": {
      "provenance": [],
      "gpuType": "T4"
    },
    "accelerator": "GPU"
  },
  "nbformat_minor": 0,
  "nbformat": 4,
  "cells": [
    {
      "cell_type": "code",
      "source": [
        "!pip install git+https://github.com/andreinechaev/nvcc4jupyter.git\n",
        "%load_ext nvcc4jupyter\n"
      ],
      "metadata": {
        "_uuid": "8f2839f25d086af736a60e9eeb907d3b93b6e0e5",
        "_cell_guid": "b1076dfc-b9ad-4769-8c92-a6c4dae69d19",
        "execution": {
          "iopub.status.busy": "2024-05-17T23:38:04.587692Z",
          "iopub.execute_input": "2024-05-17T23:38:04.587962Z",
          "iopub.status.idle": "2024-05-17T23:41:21.108916Z",
          "shell.execute_reply.started": "2024-05-17T23:38:04.587937Z",
          "shell.execute_reply": "2024-05-17T23:41:21.107823Z"
        },
        "trusted": true,
        "colab": {
          "base_uri": "https://localhost:8080/"
        },
        "id": "MHUsuGRB8prp",
        "outputId": "15f86d1c-84a6-47cd-9f59-c1cd6caf122f"
      },
      "execution_count": 1,
      "outputs": [
        {
          "output_type": "stream",
          "name": "stdout",
          "text": [
            "Collecting git+https://github.com/andreinechaev/nvcc4jupyter.git\n",
            "  Cloning https://github.com/andreinechaev/nvcc4jupyter.git to /tmp/pip-req-build-3skrswsl\n",
            "  Running command git clone --filter=blob:none --quiet https://github.com/andreinechaev/nvcc4jupyter.git /tmp/pip-req-build-3skrswsl\n",
            "  Resolved https://github.com/andreinechaev/nvcc4jupyter.git to commit 326b0a57a80c6d0b4bad25ca7adf8138419ef1cb\n",
            "  Installing build dependencies ... \u001b[?25l\u001b[?25hdone\n",
            "  Getting requirements to build wheel ... \u001b[?25l\u001b[?25hdone\n",
            "  Preparing metadata (pyproject.toml) ... \u001b[?25l\u001b[?25hdone\n",
            "Building wheels for collected packages: nvcc4jupyter\n",
            "  Building wheel for nvcc4jupyter (pyproject.toml) ... \u001b[?25l\u001b[?25hdone\n",
            "  Created wheel for nvcc4jupyter: filename=nvcc4jupyter-1.2.1-py3-none-any.whl size=10741 sha256=1c43b610d84440f376c57bb0b3d20f87e2433fdb6f06eb98d5fd7c81c461a971\n",
            "  Stored in directory: /tmp/pip-ephem-wheel-cache-c0_8jp2c/wheels/a8/b9/18/23f8ef71ceb0f63297dd1903aedd067e6243a68ea756d6feea\n",
            "Successfully built nvcc4jupyter\n",
            "Installing collected packages: nvcc4jupyter\n",
            "Successfully installed nvcc4jupyter-1.2.1\n",
            "Detected platform \"Colab\". Running its setup...\n",
            "Source files will be saved in \"/tmp/tmpw7pmge2y\".\n"
          ]
        }
      ]
    },
    {
      "cell_type": "code",
      "source": [
        "!git clone https://github.com/ahmedmadbouly186/parallel_computing_using_CUDA.git\n",
        "%cd /content/parallel_computing_using_CUDA/big_assignemnt/\n"
      ],
      "metadata": {
        "colab": {
          "base_uri": "https://localhost:8080/"
        },
        "id": "yz7v298TDFxR",
        "outputId": "1b9aeaae-901d-4984-c139-4d2011f9e9f9"
      },
      "execution_count": 2,
      "outputs": [
        {
          "output_type": "stream",
          "name": "stdout",
          "text": [
            "Cloning into 'parallel_computing_using_CUDA'...\n",
            "remote: Enumerating objects: 70, done.\u001b[K\n",
            "remote: Counting objects: 100% (70/70), done.\u001b[K\n",
            "remote: Compressing objects: 100% (54/54), done.\u001b[K\n",
            "remote: Total 70 (delta 15), reused 64 (delta 12), pack-reused 0\u001b[K\n",
            "Receiving objects: 100% (70/70), 5.22 MiB | 25.19 MiB/s, done.\n",
            "Resolving deltas: 100% (15/15), done.\n",
            "/content/parallel_computing_using_CUDA/big_assignemnt\n"
          ]
        }
      ]
    },
    {
      "cell_type": "code",
      "source": [
        "!python generator.py 12\n",
        "# !pwd"
      ],
      "metadata": {
        "id": "-2F2UIGMOSrN"
      },
      "execution_count": 6,
      "outputs": []
    },
    {
      "cell_type": "code",
      "source": [
        "import time\n",
        "\n",
        "!gcc tsp_cpu_solver.c -o tsp_solver -lm\n",
        "start_time = time.time()\n",
        "\n",
        "!./tsp_solver edges.txt\n",
        "\n",
        "end_time = time.time()\n",
        "elapsed_time = end_time - start_time\n",
        "print(\"Elapsed time on cpu solver: \", elapsed_time)\n",
        "\n"
      ],
      "metadata": {
        "colab": {
          "base_uri": "https://localhost:8080/"
        },
        "id": "ldWIH5CnOqDK",
        "outputId": "8c12527f-0cd1-4663-9b61-9fabe05e161d"
      },
      "execution_count": 7,
      "outputs": [
        {
          "output_type": "stream",
          "name": "stdout",
          "text": [
            "TSP CPU Solver\n",
            "The best solution is : 214.970000\n",
            "The best path is : 0 6 7 11 2 4 1 12 9 8 5 3 10 \n",
            "Elapsed time on cpu solver:  4363.268090963364\n"
          ]
        }
      ]
    },
    {
      "cell_type": "code",
      "source": [
        "import time\n",
        "!pwd\n",
        "# Note: essential compilation flags for cdp\n",
        "!nvcc tsp_gpu_solver_3.cu -o run -rdc=true -lcudadevrt\n",
        "start_time = time.time()\n",
        "\n",
        "!nvprof ./run edges.txt\n",
        "\n",
        "end_time = time.time()\n",
        "elapsed_time = end_time - start_time\n",
        "print(\"Elapsed time on gpu solver without streaming: \", elapsed_time)\n"
      ],
      "metadata": {
        "trusted": true,
        "colab": {
          "base_uri": "https://localhost:8080/"
        },
        "id": "_UIbBNgy8prx",
        "outputId": "67ff04a8-48fa-4e7b-91a1-1205ebf1071a"
      },
      "execution_count": 4,
      "outputs": [
        {
          "output_type": "stream",
          "name": "stdout",
          "text": [
            "/content/parallel_computing_using_CUDA/big_assignemnt\n",
            "======== Warning: unable to locate cuda driver library, GPU profiling skipped\n",
            "======== Error: Application received signal 139\n",
            "Elapsed time on gpu solver:  0.30645108222961426\n"
          ]
        }
      ]
    },
    {
      "cell_type": "code",
      "source": [
        "import time\n",
        "\n",
        "# Note: essential compilation flags for cdp\n",
        "!nvcc tsp_gpu_solver_3_streaming.cu -o run -rdc=true -lcudadevrt\n",
        "start_time = time.time()\n",
        "# !nvprof --device-buffer-size=1024MB --profiling-semaphore-pool-size=1000 ./run edges.txt\n",
        "\n",
        "!nvprof ./run edges.txt\n",
        "\n",
        "end_time = time.time()\n",
        "elapsed_time = end_time - start_time\n",
        "print(\"Elapsed time on gpu solver: with streaming\", elapsed_time)\n"
      ],
      "metadata": {
        "colab": {
          "base_uri": "https://localhost:8080/"
        },
        "id": "vYtJY0tfA2jE",
        "outputId": "170ae172-c48a-4891-e12f-c8d45baea9cc"
      },
      "execution_count": 19,
      "outputs": [
        {
          "output_type": "stream",
          "name": "stdout",
          "text": [
            "==10231== NVPROF is profiling process 10231, command: ./run edges.txt\n",
            "==10231== Profiling application: ./run edges.txt\n",
            "==10231== Profiling result:\n",
            "No kernels were profiled.\n",
            "No API activities were profiled.\n",
            "==10231== Warning: Some profiling data are not recorded.\n",
            "^C\n",
            "Elapsed time on gpu solver:  4.347606420516968\n"
          ]
        }
      ]
    }
  ]
}