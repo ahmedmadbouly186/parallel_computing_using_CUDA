{
  "metadata": {
    "kernelspec": {
      "display_name": "Python 3",
      "name": "python3"
    },
    "language_info": {
      "name": "python",
      "version": "3.10.13",
      "mimetype": "text/x-python",
      "codemirror_mode": {
        "name": "ipython",
        "version": 3
      },
      "pygments_lexer": "ipython3",
      "nbconvert_exporter": "python",
      "file_extension": ".py"
    },
    "kaggle": {
      "accelerator": "nvidiaTeslaT4",
      "dataSources": [],
      "dockerImageVersionId": 30699,
      "isInternetEnabled": true,
      "language": "python",
      "sourceType": "notebook",
      "isGpuEnabled": true
    },
    "colab": {
      "provenance": [],
      "gpuType": "T4"
    },
    "accelerator": "GPU"
  },
  "nbformat_minor": 0,
  "nbformat": 4,
  "cells": [
    {
      "cell_type": "code",
      "source": [
        "!pip install git+https://github.com/andreinechaev/nvcc4jupyter.git\n",
        "%load_ext nvcc4jupyter\n",
        "\n",
        "# !git clone https://github.com/andreinechaev/nvcc4jupyter.git\n",
        "# !pip install ./nvcc4jupyter\n",
        "# %load_ext nvcc4jupyter"
      ],
      "metadata": {
        "_uuid": "8f2839f25d086af736a60e9eeb907d3b93b6e0e5",
        "_cell_guid": "b1076dfc-b9ad-4769-8c92-a6c4dae69d19",
        "execution": {
          "iopub.status.busy": "2024-05-17T23:38:04.587692Z",
          "iopub.execute_input": "2024-05-17T23:38:04.587962Z",
          "iopub.status.idle": "2024-05-17T23:41:21.108916Z",
          "shell.execute_reply.started": "2024-05-17T23:38:04.587937Z",
          "shell.execute_reply": "2024-05-17T23:41:21.107823Z"
        },
        "trusted": true,
        "colab": {
          "base_uri": "https://localhost:8080/"
        },
        "id": "MHUsuGRB8prp",
        "outputId": "44961e4b-0ab8-4160-9803-aa4d6e58adb1"
      },
      "execution_count": null,
      "outputs": [
        {
          "output_type": "stream",
          "name": "stdout",
          "text": [
            "Collecting git+https://github.com/andreinechaev/nvcc4jupyter.git\n",
            "  Cloning https://github.com/andreinechaev/nvcc4jupyter.git to /tmp/pip-req-build-al8k5x3z\n",
            "  Running command git clone --filter=blob:none --quiet https://github.com/andreinechaev/nvcc4jupyter.git /tmp/pip-req-build-al8k5x3z\n",
            "  Resolved https://github.com/andreinechaev/nvcc4jupyter.git to commit 326b0a57a80c6d0b4bad25ca7adf8138419ef1cb\n",
            "  Installing build dependencies ... \u001b[?25l\u001b[?25hdone\n",
            "  Getting requirements to build wheel ... \u001b[?25l\u001b[?25hdone\n",
            "  Preparing metadata (pyproject.toml) ... \u001b[?25l\u001b[?25hdone\n",
            "Building wheels for collected packages: nvcc4jupyter\n",
            "  Building wheel for nvcc4jupyter (pyproject.toml) ... \u001b[?25l\u001b[?25hdone\n",
            "  Created wheel for nvcc4jupyter: filename=nvcc4jupyter-1.2.1-py3-none-any.whl size=10741 sha256=1c43b610d84440f376c57bb0b3d20f87e2433fdb6f06eb98d5fd7c81c461a971\n",
            "  Stored in directory: /tmp/pip-ephem-wheel-cache-675foexv/wheels/a8/b9/18/23f8ef71ceb0f63297dd1903aedd067e6243a68ea756d6feea\n",
            "Successfully built nvcc4jupyter\n",
            "Installing collected packages: nvcc4jupyter\n",
            "Successfully installed nvcc4jupyter-1.2.1\n",
            "Detected platform \"Colab\". Running its setup...\n",
            "Source files will be saved in \"/tmp/tmpbq5q9s5o\".\n"
          ]
        }
      ]
    },
    {
      "cell_type": "code",
      "source": [
        "!python generator.py"
      ],
      "metadata": {
        "id": "-2F2UIGMOSrN"
      },
      "execution_count": null,
      "outputs": []
    },
    {
      "cell_type": "code",
      "source": [
        "import time\n",
        "\n",
        "!gcc tsp_cpu_solver.c -o tsp_solver -lm\n",
        "start_time = time.time()\n",
        "\n",
        "!./tsp_solver edges.txt\n",
        "\n",
        "end_time = time.time()\n",
        "elapsed_time = end_time - start_time\n",
        "print(\"Elapsed time on cpu solver: \", elapsed_time)\n",
        "\n"
      ],
      "metadata": {
        "colab": {
          "base_uri": "https://localhost:8080/"
        },
        "id": "ldWIH5CnOqDK",
        "outputId": "a95b807e-5e81-4238-83bd-2662bc2e7f4e"
      },
      "execution_count": null,
      "outputs": [
        {
          "output_type": "stream",
          "name": "stdout",
          "text": [
            "TSP CPU Solver\n"
          ]
        }
      ]
    },
    {
      "cell_type": "code",
      "source": [
        "import time\n",
        "\n",
        "# Note: essential compilation flags for cdp\n",
        "!nvcc kernal.cu -o run -rdc=true -lcudadevrt\n",
        "start_time = time.time()\n",
        "\n",
        "! ./run edges.txt\n",
        "\n",
        "end_time = time.time()\n",
        "elapsed_time = end_time - start_time\n",
        "print(\"Elapsed time: \", elapsed_time)\n"
      ],
      "metadata": {
        "trusted": true,
        "colab": {
          "base_uri": "https://localhost:8080/"
        },
        "id": "MkWy-Ycm8prw",
        "outputId": "d508b6ac-df14-4f40-f1de-18cb3de58157"
      },
      "execution_count": null,
      "outputs": [
        {
          "output_type": "stream",
          "name": "stdout",
          "text": [
            "\n",
            "\n",
            "Minimum Path Weight: 265.160000\n",
            "\n",
            "Best Path: 0 5 3 1 4 6 10 7 9 2 8 \n",
            "Elapsed time:  13.751392364501953\n"
          ]
        }
      ]
    },
    {
      "cell_type": "code",
      "source": [
        "import time\n",
        "\n",
        "# Note: essential compilation flags for cdp\n",
        "!nvcc kernal2.cu -o run -rdc=true -lcudadevrt\n",
        "start_time = time.time()\n",
        "\n",
        "!nvprof ./run edges.txt\n",
        "\n",
        "end_time = time.time()\n",
        "elapsed_time = end_time - start_time\n",
        "print(\"Elapsed time on gpu solver: \", elapsed_time)\n"
      ],
      "metadata": {
        "trusted": true,
        "colab": {
          "base_uri": "https://localhost:8080/"
        },
        "id": "_UIbBNgy8prx",
        "outputId": "15782022-0b5a-41dd-a4f0-daf5cb7fde4c"
      },
      "execution_count": null,
      "outputs": [
        {
          "output_type": "stream",
          "name": "stdout",
          "text": [
            "==21983== NVPROF is profiling process 21983, command: ./run edges.txt\n",
            "\n",
            "\n",
            "Minimum Path Weight: 270.670000\n",
            "\n",
            "Best Path: 7 6 0 2 1 8 11 4 12 9 10 5 3 \n",
            "==21983== Profiling application: ./run edges.txt\n",
            "==21983== Profiling result:\n",
            "            Type  Time(%)      Time     Calls       Avg       Min       Max  Name\n",
            " GPU activities:  100.00%  164.602s         1  164.602s  164.602s  164.602s  calculatePathWeight(double*, __int64*, double*, int*, int*, __int64, __int64)\n",
            "                    0.00%  3.4870us         2  1.7430us  1.5360us  1.9510us  [CUDA memcpy DtoH]\n",
            "                    0.00%  3.3270us         4     831ns     704ns  1.2150us  [CUDA memcpy HtoD]\n",
            "      API calls:   99.88%  164.602s         6  27.4336s  4.4050us  164.602s  cudaMemcpy\n",
            "                    0.11%  187.13ms         5  37.426ms  2.8800us  187.11ms  cudaMalloc\n",
            "                    0.00%  3.7769ms         1  3.7769ms  3.7769ms  3.7769ms  cudaLaunchKernel\n",
            "                    0.00%  150.25us       114  1.3170us     146ns  56.563us  cuDeviceGetAttribute\n",
            "                    0.00%  66.265us         4  16.566us  3.9110us  44.204us  cudaFree\n",
            "                    0.00%  11.546us         1  11.546us  11.546us  11.546us  cuDeviceGetName\n",
            "                    0.00%  5.9620us         1  5.9620us  5.9620us  5.9620us  cuDeviceGetPCIBusId\n",
            "                    0.00%  4.2000us         1  4.2000us  4.2000us  4.2000us  cuDeviceTotalMem\n",
            "                    0.00%  2.7140us         2  1.3570us     186ns  2.5280us  cuDeviceGet\n",
            "                    0.00%  1.9520us         3     650ns     237ns  1.4720us  cuDeviceGetCount\n",
            "                    0.00%     462ns         1     462ns     462ns     462ns  cuModuleGetLoadingMode\n",
            "                    0.00%     256ns         1     256ns     256ns     256ns  cuDeviceGetUuid\n",
            "Elapsed time on gpu solver:  165.0069534778595\n"
          ]
        }
      ]
    }
  ]
}